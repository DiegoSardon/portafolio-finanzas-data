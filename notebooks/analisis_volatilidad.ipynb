{
 "cells": [
  {
   "cell_type": "code",
   "execution_count": null,
   "metadata": {
    "vscode": {
     "languageId": "plaintext"
    }
   },
   "outputs": [],
   "source": [
    "import pandas as pd\n",
    "import matplotlib.pyplot as plt\n",
    "\n",
    "# Leer datos\n",
    "df = pd.read_csv('../data/precios.csv', parse_dates=['Fecha'])\n",
    "df.set_index('Fecha', inplace=True)\n",
    "\n",
    "# Calcular volatilidad: desviación estándar\n",
    "volatilidad = df['Precio'].std()\n",
    "print(f'Volatilidad: {volatilidad}')\n",
    "\n",
    "# Graficar precios\n",
    "df['Precio'].plot(title='Precios de Acciones')\n",
    "plt.xlabel('Fecha')\n",
    "plt.ylabel('Precio')\n",
    "plt.show()\n"
   ]
  }
 ],
 "metadata": {
  "language_info": {
   "name": "python"
  }
 },
 "nbformat": 4,
 "nbformat_minor": 2
}
